{
 "cells": [
  {
   "cell_type": "code",
   "execution_count": 1,
   "id": "e44b2f92-69d0-4266-880d-1370219b1476",
   "metadata": {},
   "outputs": [],
   "source": [
    "import pyscreenshot as ImageGrab\n",
    "import time"
   ]
  },
  {
   "cell_type": "code",
   "execution_count": null,
   "id": "a1ee7498-125e-41be-8a70-67e7ad2d8370",
   "metadata": {},
   "outputs": [
    {
     "name": "stdout",
     "output_type": "stream",
     "text": [
      "saved...... 0\n",
      "clear screen now and redraw now........\n",
      "saved...... 1\n",
      "clear screen now and redraw now........\n"
     ]
    }
   ],
   "source": [
    "images_folder=\"captured_images/3/\"\n",
    "for i in range(0,100):\n",
    "   time.sleep(8)\n",
    "   im=ImageGrab.grab(bbox=(60,300,400,600)) #x1,y1,x2,y2\n",
    "   print(\"saved......\",i)\n",
    "   im.save(images_folder+str(i)+'.png')\n",
    "   print(\"clear screen now and redraw now........\")"
   ]
  },
  {
   "cell_type": "code",
   "execution_count": null,
   "id": "829ea99b-c404-4549-8c44-fac3170e1ff3",
   "metadata": {},
   "outputs": [],
   "source": [
    "import cv2\n",
    "import csv\n",
    "import glob\n",
    "  \n",
    "header  =[\"label\"]\n",
    "for i in range(0,784):\n",
    "   header.append(\"pixel\"+str(i))\n",
    "with open('dataset.csv', 'a') as f:\n",
    "   writer = csv.writer(f)\n",
    "   writer.writerow(header)\n",
    "    \n",
    "for label in range(10):\n",
    "   dirList = glob.glob(\"captured_images/\"+str(label)+\"/*.png\")\n",
    "    \n",
    "   for img_path in dirList:\n",
    "       im= cv2.imread(img_path)\n",
    "       im_gray = cv2.cvtColor(im,cv2.COLOR_BGR2GRAY)\n",
    "       im_gray = cv2.GaussianBlur(im_gray,(15,15), 0)\n",
    "       roi= cv2.resize(im_gray,(28,28), interpolation=cv2.INTER_AREA)\n",
    "        \n",
    "       data=[]\n",
    "       data.append(label)\n",
    "       rows, cols = roi.shape\n",
    "        \n",
    "       ## Fill the data array with pixels one by one.\n",
    "       for i in range(rows):\n",
    "           for j in range(cols):\n",
    "               k =roi[i,j]\n",
    "               if k>100:\n",
    "                   k=1\n",
    "               else:\n",
    "                   k=0\n",
    "               data.append(k)\n",
    "       with open('dataset.csv', 'a') as f:\n",
    "           writer = csv.writer(f)\n",
    "           writer.writerow(data)"
   ]
  },
  {
   "cell_type": "code",
   "execution_count": 2,
   "id": "3a704ca9-ecd7-4b6c-932a-3b46257d1034",
   "metadata": {},
   "outputs": [
    {
     "name": "stdout",
     "output_type": "stream",
     "text": [
      "     label  pixel0  pixel1  pixel2  pixel3  pixel4  pixel5  pixel6  pixel7  \\\n",
      "748      7       0       0       0       0       0       0       0       0   \n",
      "503      5       0       0       0       0       0       0       0       0   \n",
      "78       0       0       0       0       0       0       0       0       0   \n",
      "464      4       0       0       0       0       0       0       0       0   \n",
      "996      9       0       0       0       0       0       0       0       0   \n",
      "..     ...     ...     ...     ...     ...     ...     ...     ...     ...   \n",
      "248      2       0       0       0       0       0       0       0       0   \n",
      "617      6       0       0       0       0       0       0       0       0   \n",
      "753      7       0       0       0       0       0       0       0       0   \n",
      "776      7       0       0       0       0       0       0       0       0   \n",
      "200      2       0       0       0       0       0       0       0       0   \n",
      "\n",
      "     pixel8  ...  pixel774  pixel775  pixel776  pixel777  pixel778  pixel779  \\\n",
      "748       0  ...         0         0         0         0         0         0   \n",
      "503       0  ...         0         0         0         0         0         0   \n",
      "78        0  ...         0         0         0         0         0         0   \n",
      "464       0  ...         0         0         0         0         0         0   \n",
      "996       0  ...         0         0         0         0         0         0   \n",
      "..      ...  ...       ...       ...       ...       ...       ...       ...   \n",
      "248       0  ...         0         0         0         0         0         0   \n",
      "617       0  ...         0         0         0         0         0         0   \n",
      "753       0  ...         0         0         0         0         0         0   \n",
      "776       0  ...         0         0         0         0         0         0   \n",
      "200       0  ...         0         0         0         0         0         0   \n",
      "\n",
      "     pixel780  pixel781  pixel782  pixel783  \n",
      "748         0         0         0         0  \n",
      "503         0         0         0         0  \n",
      "78          0         0         0         0  \n",
      "464         0         0         0         0  \n",
      "996         0         0         0         0  \n",
      "..        ...       ...       ...       ...  \n",
      "248         0         0         0         0  \n",
      "617         0         0         0         0  \n",
      "753         0         0         0         0  \n",
      "776         0         0         0         0  \n",
      "200         0         0         0         0  \n",
      "\n",
      "[1000 rows x 785 columns]\n"
     ]
    }
   ],
   "source": [
    "import pandas as pd #pip install pandas\n",
    "from sklearn.utils import shuffle #pip install scikit-learn\n",
    "#0,....,1.....,2.....\n",
    "#5,3,1,0,2,5,.......\n",
    " \n",
    "data = pd.read_csv('dataset.csv')\n",
    "data = shuffle(data)\n",
    "print(data)"
   ]
  },
  {
   "cell_type": "code",
   "execution_count": 3,
   "id": "59f4e9e8-52a5-47c6-be54-5cf0919abd34",
   "metadata": {},
   "outputs": [
    {
     "name": "stdout",
     "output_type": "stream",
     "text": [
      "label       0\n",
      "pixel0      0\n",
      "pixel1      0\n",
      "pixel2      0\n",
      "pixel3      0\n",
      "           ..\n",
      "pixel779    0\n",
      "pixel780    0\n",
      "pixel781    0\n",
      "pixel782    0\n",
      "pixel783    0\n",
      "Length: 785, dtype: int64\n",
      "label\n",
      "7    100\n",
      "5    100\n",
      "0    100\n",
      "4    100\n",
      "9    100\n",
      "6    100\n",
      "2    100\n",
      "1    100\n",
      "3    100\n",
      "8    100\n",
      "Name: count, dtype: int64\n"
     ]
    },
    {
     "data": {
      "image/png": "[encoded data removed]",
      "text/plain": [
       "<Figure size 1000x300 with 5 Axes>"
      ]
     },
     "metadata": {},
     "output_type": "display_data"
    }
   ],
   "source": [
    "import matplotlib.pyplot as plt\n",
    "\n",
    "# Check for missing values\n",
    "print(data.isnull().sum())\n",
    "\n",
    "# Display the distribution of labels\n",
    "print(data['label'].value_counts())\n",
    "\n",
    "# Visualize some examples\n",
    "fig, axes = plt.subplots(1, 5, figsize=(10, 3))\n",
    "for i in range(5):\n",
    "    axes[i].imshow(data.iloc[i, 1:].values.reshape(28, 28), cmap='gray')\n",
    "    axes[i].set_title(f\"Label: {data.iloc[i, 0]}\")\n",
    "    axes[i].axis('off')\n",
    "plt.show()\n"
   ]
  },
  {
   "cell_type": "code",
   "execution_count": 5,
   "id": "9a603fea-3727-414f-84bc-6ed528e174e4",
   "metadata": {},
   "outputs": [
    {
     "name": "stdout",
     "output_type": "stream",
     "text": [
      "Training data shape: (800, 28, 28, 1)\n",
      "Test data shape: (200, 28, 28, 1)\n"
     ]
    }
   ],
   "source": [
    "from sklearn.model_selection import train_test_split\n",
    "from sklearn.preprocessing import StandardScaler\n",
    "\n",
    "# Separate features and labels\n",
    "X = data.drop(columns='label').values\n",
    "y = data['label'].values\n",
    "\n",
    "# Normalize the pixel values\n",
    "X = X / 255.0\n",
    "\n",
    "# Reshape if necessary (for neural networks)\n",
    "X = X.reshape(-1, 28, 28, 1)\n",
    "\n",
    "# Split the data into training and testing sets\n",
    "X_train, X_test, y_train, y_test = train_test_split(X, y, test_size=0.2, random_state=42)\n",
    "\n",
    "print(f\"Training data shape: {X_train.shape}\")\n",
    "print(f\"Test data shape: {X_test.shape}\")\n"
   ]
  },
  {
   "cell_type": "code",
   "execution_count": 4,
   "id": "3d305e44-f761-4c0c-9a9d-21957b50c58c",
   "metadata": {},
   "outputs": [
    {
     "data": {
      "text/html": [
       "<pre style=\"white-space:pre;overflow-x:auto;line-height:normal;font-family:Menlo,'DejaVu Sans Mono',consolas,'Courier New',monospace\"><span style=\"font-weight: bold\">Model: \"sequential\"</span>\n",
       "</pre>\n"
      ],
      "text/plain": [
       "\u001b[1mModel: \"sequential\"\u001b[0m\n"
      ]
     },
     "metadata": {},
     "output_type": "display_data"
    },
    {
     "data": {
      "text/html": [
       "<pre style=\"white-space:pre;overflow-x:auto;line-height:normal;font-family:Menlo,'DejaVu Sans Mono',consolas,'Courier New',monospace\">┏━━━━━━━━━━━━━━━━━━━━━━━━━━━━━━━━━━━━━━┳━━━━━━━━━━━━━━━━━━━━━━━━━━━━━┳━━━━━━━━━━━━━━━━━┓\n",
       "┃<span style=\"font-weight: bold\"> Layer (type)                         </span>┃<span style=\"font-weight: bold\"> Output Shape                </span>┃<span style=\"font-weight: bold\">         Param # </span>┃\n",
       "┡━━━━━━━━━━━━━━━━━━━━━━━━━━━━━━━━━━━━━━╇━━━━━━━━━━━━━━━━━━━━━━━━━━━━━╇━━━━━━━━━━━━━━━━━┩\n",
       "│ conv2d (<span style=\"color: #0087ff; text-decoration-color: #0087ff\">Conv2D</span>)                      │ ?                           │     <span style=\"color: #00af00; text-decoration-color: #00af00\">0</span> (unbuilt) │\n",
       "├──────────────────────────────────────┼─────────────────────────────┼─────────────────┤\n",
       "│ max_pooling2d (<span style=\"color: #0087ff; text-decoration-color: #0087ff\">MaxPooling2D</span>)         │ ?                           │     <span style=\"color: #00af00; text-decoration-color: #00af00\">0</span> (unbuilt) │\n",
       "├──────────────────────────────────────┼─────────────────────────────┼─────────────────┤\n",
       "│ flatten (<span style=\"color: #0087ff; text-decoration-color: #0087ff\">Flatten</span>)                    │ ?                           │     <span style=\"color: #00af00; text-decoration-color: #00af00\">0</span> (unbuilt) │\n",
       "├──────────────────────────────────────┼─────────────────────────────┼─────────────────┤\n",
       "│ dense (<span style=\"color: #0087ff; text-decoration-color: #0087ff\">Dense</span>)                        │ ?                           │     <span style=\"color: #00af00; text-decoration-color: #00af00\">0</span> (unbuilt) │\n",
       "├──────────────────────────────────────┼─────────────────────────────┼─────────────────┤\n",
       "│ dense_1 (<span style=\"color: #0087ff; text-decoration-color: #0087ff\">Dense</span>)                      │ ?                           │     <span style=\"color: #00af00; text-decoration-color: #00af00\">0</span> (unbuilt) │\n",
       "└──────────────────────────────────────┴─────────────────────────────┴─────────────────┘\n",
       "</pre>\n"
      ],
      "text/plain": [
       "┏━━━━━━━━━━━━━━━━━━━━━━━━━━━━━━━━━━━━━━┳━━━━━━━━━━━━━━━━━━━━━━━━━━━━━┳━━━━━━━━━━━━━━━━━┓\n",
       "┃\u001b[1m \u001b[0m\u001b[1mLayer (type)                        \u001b[0m\u001b[1m \u001b[0m┃\u001b[1m \u001b[0m\u001b[1mOutput Shape               \u001b[0m\u001b[1m \u001b[0m┃\u001b[1m \u001b[0m\u001b[1m        Param #\u001b[0m\u001b[1m \u001b[0m┃\n",
       "┡━━━━━━━━━━━━━━━━━━━━━━━━━━━━━━━━━━━━━━╇━━━━━━━━━━━━━━━━━━━━━━━━━━━━━╇━━━━━━━━━━━━━━━━━┩\n",
       "│ conv2d (\u001b[38;5;33mConv2D\u001b[0m)                      │ ?                           │     \u001b[38;5;34m0\u001b[0m (unbuilt) │\n",
       "├──────────────────────────────────────┼─────────────────────────────┼─────────────────┤\n",
       "│ max_pooling2d (\u001b[38;5;33mMaxPooling2D\u001b[0m)         │ ?                           │     \u001b[38;5;34m0\u001b[0m (unbuilt) │\n",
       "├──────────────────────────────────────┼─────────────────────────────┼─────────────────┤\n",
       "│ flatten (\u001b[38;5;33mFlatten\u001b[0m)                    │ ?                           │     \u001b[38;5;34m0\u001b[0m (unbuilt) │\n",
       "├──────────────────────────────────────┼─────────────────────────────┼─────────────────┤\n",
       "│ dense (\u001b[38;5;33mDense\u001b[0m)                        │ ?                           │     \u001b[38;5;34m0\u001b[0m (unbuilt) │\n",
       "├──────────────────────────────────────┼─────────────────────────────┼─────────────────┤\n",
       "│ dense_1 (\u001b[38;5;33mDense\u001b[0m)                      │ ?                           │     \u001b[38;5;34m0\u001b[0m (unbuilt) │\n",
       "└──────────────────────────────────────┴─────────────────────────────┴─────────────────┘\n"
      ]
     },
     "metadata": {},
     "output_type": "display_data"
    },
    {
     "data": {
      "text/html": [
       "<pre style=\"white-space:pre;overflow-x:auto;line-height:normal;font-family:Menlo,'DejaVu Sans Mono',consolas,'Courier New',monospace\"><span style=\"font-weight: bold\"> Total params: </span><span style=\"color: #00af00; text-decoration-color: #00af00\">0</span> (0.00 B)\n",
       "</pre>\n"
      ],
      "text/plain": [
       "\u001b[1m Total params: \u001b[0m\u001b[38;5;34m0\u001b[0m (0.00 B)\n"
      ]
     },
     "metadata": {},
     "output_type": "display_data"
    },
    {
     "data": {
      "text/html": [
       "<pre style=\"white-space:pre;overflow-x:auto;line-height:normal;font-family:Menlo,'DejaVu Sans Mono',consolas,'Courier New',monospace\"><span style=\"font-weight: bold\"> Trainable params: </span><span style=\"color: #00af00; text-decoration-color: #00af00\">0</span> (0.00 B)\n",
       "</pre>\n"
      ],
      "text/plain": [
       "\u001b[1m Trainable params: \u001b[0m\u001b[38;5;34m0\u001b[0m (0.00 B)\n"
      ]
     },
     "metadata": {},
     "output_type": "display_data"
    },
    {
     "data": {
      "text/html": [
       "<pre style=\"white-space:pre;overflow-x:auto;line-height:normal;font-family:Menlo,'DejaVu Sans Mono',consolas,'Courier New',monospace\"><span style=\"font-weight: bold\"> Non-trainable params: </span><span style=\"color: #00af00; text-decoration-color: #00af00\">0</span> (0.00 B)\n",
       "</pre>\n"
      ],
      "text/plain": [
       "\u001b[1m Non-trainable params: \u001b[0m\u001b[38;5;34m0\u001b[0m (0.00 B)\n"
      ]
     },
     "metadata": {},
     "output_type": "display_data"
    }
   ],
   "source": [
    "import tensorflow as tf\n",
    "from tensorflow.keras.models import Sequential\n",
    "from tensorflow.keras.layers import Conv2D, MaxPooling2D, Flatten, Dense\n",
    "\n",
    "# Define the model architecture\n",
    "model = Sequential([\n",
    "    # No need to specify input_shape in Conv2D layer\n",
    "    Conv2D(32, kernel_size=(3, 3), activation='relu'),\n",
    "    MaxPooling2D(pool_size=(2, 2)),\n",
    "    Flatten(),\n",
    "    Dense(128, activation='relu'),\n",
    "    Dense(10, activation='softmax')\n",
    "])\n",
    "\n",
    "# Compile the model\n",
    "model.compile(optimizer='adam', loss='sparse_categorical_crossentropy', metrics=['accuracy'])\n",
    "\n",
    "# Display the model summary\n",
    "model.summary()\n"
   ]
  },
  {
   "cell_type": "code",
   "execution_count": 25,
   "id": "ec36f9ba-64c9-43b0-befa-f28006d841c6",
   "metadata": {},
   "outputs": [
    {
     "name": "stdout",
     "output_type": "stream",
     "text": [
      "Epoch 1/10\n",
      "\u001b[1m20/20\u001b[0m \u001b[32m━━━━━━━━━━━━━━━━━━━━\u001b[0m\u001b[37m\u001b[0m \u001b[1m2s\u001b[0m 24ms/step - accuracy: 0.1012 - loss: 2.3009 - val_accuracy: 0.2125 - val_loss: 2.2960\n",
      "Epoch 2/10\n",
      "\u001b[1m20/20\u001b[0m \u001b[32m━━━━━━━━━━━━━━━━━━━━\u001b[0m\u001b[37m\u001b[0m \u001b[1m0s\u001b[0m 12ms/step - accuracy: 0.3132 - loss: 2.2825 - val_accuracy: 0.2625 - val_loss: 2.2722\n",
      "Epoch 3/10\n",
      "\u001b[1m20/20\u001b[0m \u001b[32m━━━━━━━━━━━━━━━━━━━━\u001b[0m\u001b[37m\u001b[0m \u001b[1m0s\u001b[0m 11ms/step - accuracy: 0.3921 - loss: 2.2441 - val_accuracy: 0.4375 - val_loss: 2.2148\n",
      "Epoch 4/10\n",
      "\u001b[1m20/20\u001b[0m \u001b[32m━━━━━━━━━━━━━━━━━━━━\u001b[0m\u001b[37m\u001b[0m \u001b[1m0s\u001b[0m 11ms/step - accuracy: 0.4512 - loss: 2.1699 - val_accuracy: 0.3313 - val_loss: 2.1191\n",
      "Epoch 5/10\n",
      "\u001b[1m20/20\u001b[0m \u001b[32m━━━━━━━━━━━━━━━━━━━━\u001b[0m\u001b[37m\u001b[0m \u001b[1m0s\u001b[0m 12ms/step - accuracy: 0.4455 - loss: 2.0215 - val_accuracy: 0.5688 - val_loss: 1.9423\n",
      "Epoch 6/10\n",
      "\u001b[1m20/20\u001b[0m \u001b[32m━━━━━━━━━━━━━━━━━━━━\u001b[0m\u001b[37m\u001b[0m \u001b[1m0s\u001b[0m 17ms/step - accuracy: 0.6666 - loss: 1.8207 - val_accuracy: 0.6812 - val_loss: 1.7238\n",
      "Epoch 7/10\n",
      "\u001b[1m20/20\u001b[0m \u001b[32m━━━━━━━━━━━━━━━━━━━━\u001b[0m\u001b[37m\u001b[0m \u001b[1m0s\u001b[0m 22ms/step - accuracy: 0.7368 - loss: 1.5698 - val_accuracy: 0.7937 - val_loss: 1.4491\n",
      "Epoch 8/10\n",
      "\u001b[1m20/20\u001b[0m \u001b[32m━━━━━━━━━━━━━━━━━━━━\u001b[0m\u001b[37m\u001b[0m \u001b[1m1s\u001b[0m 25ms/step - accuracy: 0.8776 - loss: 1.2726 - val_accuracy: 0.8938 - val_loss: 1.1946\n",
      "Epoch 9/10\n",
      "\u001b[1m20/20\u001b[0m \u001b[32m━━━━━━━━━━━━━━━━━━━━\u001b[0m\u001b[37m\u001b[0m \u001b[1m1s\u001b[0m 29ms/step - accuracy: 0.9035 - loss: 1.0415 - val_accuracy: 0.8750 - val_loss: 1.0095\n",
      "Epoch 10/10\n",
      "\u001b[1m20/20\u001b[0m \u001b[32m━━━━━━━━━━━━━━━━━━━━\u001b[0m\u001b[37m\u001b[0m \u001b[1m1s\u001b[0m 23ms/step - accuracy: 0.8731 - loss: 0.8658 - val_accuracy: 0.8813 - val_loss: 0.8474\n",
      "\u001b[1m7/7\u001b[0m \u001b[32m━━━━━━━━━━━━━━━━━━━━\u001b[0m\u001b[37m\u001b[0m \u001b[1m0s\u001b[0m 7ms/step - accuracy: 0.9088 - loss: 0.7151  \n",
      "Test accuracy: 0.8999999761581421\n"
     ]
    }
   ],
   "source": [
    "# Train the model\n",
    "history = model.fit(X_train, y_train, epochs=10, validation_split=0.2)\n",
    "\n",
    "# Evaluate the model on the test set\n",
    "test_loss, test_acc = model.evaluate(X_test, y_test)\n",
    "print(f\"Test accuracy: {test_acc}\")\n"
   ]
  },
  {
   "cell_type": "code",
   "execution_count": 6,
   "id": "9ed87c97-63b4-4337-ac7f-e4e92e2a3c74",
   "metadata": {},
   "outputs": [
    {
     "data": {
      "image/png": "[encoded data removed]",
      "text/plain": [
       "<Figure size 640x480 with 1 Axes>"
      ]
     },
     "metadata": {},
     "output_type": "display_data"
    }
   ],
   "source": [
    "import matplotlib.pyplot as plt\n",
    "\n",
    "# Plot training and validation accuracy\n",
    "plt.plot(history.history['accuracy'], label='Training Accuracy')\n",
    "plt.plot(history.history['val_accuracy'], label='Validation Accuracy')\n",
    "plt.title('Model Accuracy')\n",
    "plt.xlabel('Epochs')\n",
    "plt.ylabel('Accuracy')\n",
    "plt.legend()\n",
    "plt.show()\n"
   ]
  },
  {
   "cell_type": "code",
   "execution_count": 7,
   "id": "9509d62b-b71a-44ae-8bd0-d28f67a51dae",
   "metadata": {},
   "outputs": [
    {
     "data": {
      "text/plain": [
       "<matplotlib.legend.Legend at 0x28e326ee750>"
      ]
     },
     "execution_count": 7,
     "metadata": {},
     "output_type": "execute_result"
    },
    {
     "data": {
      "image/png": "[encoded data removed]",
      "text/plain": [
       "<Figure size 640x480 with 1 Axes>"
      ]
     },
     "metadata": {},
     "output_type": "display_data"
    }
   ],
   "source": [
    "import matplotlib.pyplot as plt\n",
    "plt.subplot(1, 2, 2)\n",
    "plt.plot(history.history['loss'], label='Train Loss')\n",
    "plt.plot(history.history['val_loss'], label='Validation Loss')\n",
    "plt.title('Model Loss')\n",
    "plt.xlabel('Epoch')\n",
    "plt.ylabel('Loss')\n",
    "plt.legend(loc='upper right')"
   ]
  },
  {
   "cell_type": "code",
   "execution_count": 8,
   "id": "aec8251e-2dec-4174-a97c-18ea5669b038",
   "metadata": {},
   "outputs": [
    {
     "name": "stdout",
     "output_type": "stream",
     "text": [
      "Epoch 1/10\n",
      "\u001b[1m20/20\u001b[0m \u001b[32m━━━━━━━━━━━━━━━━━━━━\u001b[0m\u001b[37m\u001b[0m \u001b[1m0s\u001b[0m 15ms/step - accuracy: 0.8748 - loss: 0.8596 - val_accuracy: 0.8938 - val_loss: 0.7721\n",
      "Epoch 2/10\n",
      "\u001b[1m20/20\u001b[0m \u001b[32m━━━━━━━━━━━━━━━━━━━━\u001b[0m\u001b[37m\u001b[0m \u001b[1m0s\u001b[0m 12ms/step - accuracy: 0.9166 - loss: 0.7080 - val_accuracy: 0.8750 - val_loss: 0.6817\n",
      "Epoch 3/10\n",
      "\u001b[1m20/20\u001b[0m \u001b[32m━━━━━━━━━━━━━━━━━━━━\u001b[0m\u001b[37m\u001b[0m \u001b[1m0s\u001b[0m 12ms/step - accuracy: 0.9189 - loss: 0.6047 - val_accuracy: 0.8813 - val_loss: 0.5936\n",
      "Epoch 4/10\n",
      "\u001b[1m20/20\u001b[0m \u001b[32m━━━━━━━━━━━━━━━━━━━━\u001b[0m\u001b[37m\u001b[0m \u001b[1m0s\u001b[0m 11ms/step - accuracy: 0.9075 - loss: 0.5304 - val_accuracy: 0.9125 - val_loss: 0.5033\n",
      "Epoch 5/10\n",
      "\u001b[1m20/20\u001b[0m \u001b[32m━━━━━━━━━━━━━━━━━━━━\u001b[0m\u001b[37m\u001b[0m \u001b[1m0s\u001b[0m 11ms/step - accuracy: 0.9209 - loss: 0.4817 - val_accuracy: 0.8813 - val_loss: 0.4635\n",
      "Epoch 6/10\n",
      "\u001b[1m20/20\u001b[0m \u001b[32m━━━━━━━━━━━━━━━━━━━━\u001b[0m\u001b[37m\u001b[0m \u001b[1m0s\u001b[0m 11ms/step - accuracy: 0.9175 - loss: 0.4110 - val_accuracy: 0.9000 - val_loss: 0.4228\n",
      "Epoch 7/10\n",
      "\u001b[1m20/20\u001b[0m \u001b[32m━━━━━━━━━━━━━━━━━━━━\u001b[0m\u001b[37m\u001b[0m \u001b[1m0s\u001b[0m 11ms/step - accuracy: 0.9293 - loss: 0.3828 - val_accuracy: 0.9125 - val_loss: 0.3900\n",
      "Epoch 8/10\n",
      "\u001b[1m20/20\u001b[0m \u001b[32m━━━━━━━━━━━━━━━━━━━━\u001b[0m\u001b[37m\u001b[0m \u001b[1m0s\u001b[0m 11ms/step - accuracy: 0.9270 - loss: 0.3688 - val_accuracy: 0.9187 - val_loss: 0.3428\n",
      "Epoch 9/10\n",
      "\u001b[1m20/20\u001b[0m \u001b[32m━━━━━━━━━━━━━━━━━━━━\u001b[0m\u001b[37m\u001b[0m \u001b[1m0s\u001b[0m 14ms/step - accuracy: 0.9233 - loss: 0.3260 - val_accuracy: 0.9250 - val_loss: 0.3164\n",
      "Epoch 10/10\n",
      "\u001b[1m20/20\u001b[0m \u001b[32m━━━━━━━━━━━━━━━━━━━━\u001b[0m\u001b[37m\u001b[0m \u001b[1m0s\u001b[0m 12ms/step - accuracy: 0.9492 - loss: 0.2891 - val_accuracy: 0.9250 - val_loss: 0.3213\n"
     ]
    }
   ],
   "source": [
    "history = model.fit(X_train, y_train, epochs=10, validation_split=0.2)\n"
   ]
  },
  {
   "cell_type": "code",
   "execution_count": 9,
   "id": "c815ca6e-23fa-4153-9128-c4f1d8a61061",
   "metadata": {},
   "outputs": [
    {
     "name": "stdout",
     "output_type": "stream",
     "text": [
      "\u001b[1m7/7\u001b[0m \u001b[32m━━━━━━━━━━━━━━━━━━━━\u001b[0m\u001b[37m\u001b[0m \u001b[1m0s\u001b[0m 5ms/step - accuracy: 0.9317 - loss: 0.3296 \n",
      "Test accuracy: 0.9350000023841858\n"
     ]
    }
   ],
   "source": [
    "test_loss, test_acc = model.evaluate(X_test, y_test)\n",
    "print(f\"Test accuracy: {test_acc}\")\n"
   ]
  },
  {
   "cell_type": "code",
   "execution_count": 10,
   "id": "9eeed0bc-7b93-4dd1-8e94-96276b5b2a77",
   "metadata": {},
   "outputs": [
    {
     "name": "stderr",
     "output_type": "stream",
     "text": [
      "WARNING:absl:You are saving your model as an HDF5 file via `model.save()` or `keras.saving.save_model(model)`. This file format is considered legacy. We recommend using instead the native Keras format, e.g. `model.save('my_model.keras')` or `keras.saving.save_model(model, 'my_model.keras')`. \n"
     ]
    }
   ],
   "source": [
    "model.save(\"saved_model.h5\")"
   ]
  },
  {
   "cell_type": "code",
   "execution_count": 6,
   "id": "96ade142-6dc3-4ea5-b497-a405bf94d48e",
   "metadata": {},
   "outputs": [],
   "source": [
    "X = data.drop([\"label\"],axis=1)\n",
    "Y= data[\"label\"]"
   ]
  },
  {
   "cell_type": "code",
   "execution_count": 7,
   "id": "df474c13-9219-4769-bb2f-8c1d18e2b723",
   "metadata": {},
   "outputs": [],
   "source": [
    "from sklearn.model_selection import train_test_split\n",
    "train_x,test_x,train_y,test_y = train_test_split(X,Y, test_size = 0.2)"
   ]
  },
  {
   "cell_type": "code",
   "execution_count": 8,
   "id": "eca3902b-dbeb-481b-8164-45b19e238501",
   "metadata": {
    "scrolled": true
   },
   "outputs": [
    {
     "name": "stdout",
     "output_type": "stream",
     "text": [
      "3\n"
     ]
    },
    {
     "data": {
      "text/plain": [
       "<matplotlib.image.AxesImage at 0x189ede29850>"
      ]
     },
     "execution_count": 8,
     "metadata": {},
     "output_type": "execute_result"
    },
    {
     "data": {
      "image/png": "[encoded data removed]",
      "text/plain": [
       "<Figure size 640x480 with 1 Axes>"
      ]
     },
     "metadata": {},
     "output_type": "display_data"
    }
   ],
   "source": [
    "%matplotlib inline\n",
    "import matplotlib.pyplot as plt\n",
    "import cv2\n",
    "idx = 379\n",
    "img = X.loc[idx].values.reshape(28,28)\n",
    "print(Y[idx])\n",
    "plt.imshow(img)"
   ]
  },
  {
   "cell_type": "code",
   "execution_count": 9,
   "id": "00569e99-d0c2-4508-ae8c-5ed877dc2a8f",
   "metadata": {},
   "outputs": [
    {
     "data": {
      "image/png": "[encoded data removed]",
      "text/plain": [
       "<Figure size 640x480 with 1 Axes>"
      ]
     },
     "metadata": {},
     "output_type": "display_data"
    }
   ],
   "source": [
    "import numpy as np\n",
    "import matplotlib.pyplot as plt\n",
    "from skimage.feature import hog\n",
    "from skimage import exposure\n",
    "from sklearn.model_selection import train_test_split\n",
    "\n",
    "# Assuming 'data' is your DataFrame\n",
    "X = data.drop([\"label\"], axis=1)\n",
    "Y = data[\"label\"]\n",
    "\n",
    "# Splitting the data into training and testing sets\n",
    "train_x, test_x, train_y, test_y = train_test_split(X, Y, test_size=0.2, random_state=42)\n",
    "\n",
    "# Function to extract HOG features\n",
    "def extract_hog_features(images):\n",
    "    hog_features = []\n",
    "    for image in images:\n",
    "        image = image.reshape(28, 28)\n",
    "        features, hog_image = hog(image, pixels_per_cell=(8, 8), cells_per_block=(2, 2), visualize=True)\n",
    "        hog_features.append(features)\n",
    "    return np.array(hog_features)\n",
    "\n",
    "# Extracting HOG features from training and testing sets\n",
    "train_x_hog = extract_hog_features(train_x.values)\n",
    "test_x_hog = extract_hog_features(test_x.values)\n",
    "\n",
    "# Display HOG of a sample image\n",
    "idx = 379\n",
    "sample_image = X.loc[idx].values.reshape(28, 28)\n",
    "_, hog_image = hog(sample_image, pixels_per_cell=(8, 8), cells_per_block=(2, 2), visualize=True)\n",
    "plt.imshow(hog_image, cmap='gray')\n",
    "plt.title(f\"HOG Visualization for Label: {Y[idx]}\")\n",
    "plt.show()\n"
   ]
  },
  {
   "cell_type": "code",
   "execution_count": 11,
   "id": "77d3f78e-6be3-446d-9df5-05550866242f",
   "metadata": {},
   "outputs": [
    {
     "data": {
      "image/png": "[encoded data removed]",
      "text/plain": [
       "<Figure size 640x480 with 1 Axes>"
      ]
     },
     "metadata": {},
     "output_type": "display_data"
    }
   ],
   "source": [
    "from sklearn.decomposition import PCA\n",
    "\n",
    "# Assuming 'data' is your DataFrame\n",
    "X = data.drop([\"label\"], axis=1)\n",
    "Y = data[\"label\"]\n",
    "\n",
    "# Splitting the data into training and testing sets\n",
    "train_x, test_x, train_y, test_y = train_test_split(X, Y, test_size=0.2, random_state=42)\n",
    "\n",
    "# Function to apply PCA and reduce dimensions\n",
    "def apply_pca(images, n_components=50):\n",
    "    pca = PCA(n_components=n_components)\n",
    "    principal_components = pca.fit_transform(images)\n",
    "    return principal_components, pca\n",
    "\n",
    "# Applying PCA to training and testing sets\n",
    "train_x_pca, pca = apply_pca(train_x.values)\n",
    "test_x_pca = pca.transform(test_x.values)\n",
    "\n",
    "# Display cumulative variance ratio to decide number of components\n",
    "plt.plot(np.cumsum(pca.explained_variance_ratio_))\n",
    "plt.xlabel('Number of Components')\n",
    "plt.ylabel('Variance (%)') # for each component\n",
    "plt.title('Explained Variance')\n",
    "plt.show()\n"
   ]
  },
  {
   "cell_type": "code",
   "execution_count": 14,
   "id": "ba689888-6763-4e24-b819-ca8f9e6247b6",
   "metadata": {},
   "outputs": [],
   "source": [
    "# Extract HOG features\n",
    "train_x_hog = extract_hog_features(train_x.values)\n",
    "test_x_hog = extract_hog_features(test_x.values)\n",
    "\n",
    "# Apply PCA on HOG features\n",
    "train_x_hog_pca, pca = apply_pca(train_x_hog)\n",
    "test_x_hog_pca = pca.transform(test_x_hog)\n"
   ]
  },
  {
   "cell_type": "code",
   "execution_count": 15,
   "id": "bb7b39e0-fcb1-47e9-aafe-0ac3b9c5732e",
   "metadata": {},
   "outputs": [
    {
     "data": {
      "text/plain": [
       "['model/digit_recognizer']"
      ]
     },
     "execution_count": 15,
     "metadata": {},
     "output_type": "execute_result"
    }
   ],
   "source": [
    "import joblib\n",
    "from sklearn.svm import SVC\n",
    "classifier=SVC(kernel=\"linear\", random_state=6)\n",
    "classifier.fit(train_x,train_y)\n",
    "joblib.dump(classifier, \"model/digit_recognizer\")"
   ]
  },
  {
   "cell_type": "code",
   "execution_count": 16,
   "id": "8f873ac0-4eec-4467-a648-ae07a9e36fc0",
   "metadata": {},
   "outputs": [
    {
     "name": "stdout",
     "output_type": "stream",
     "text": [
      "Accuracy: 96.88%\n"
     ]
    }
   ],
   "source": [
    "import joblib\n",
    "from sklearn.svm import SVC\n",
    "from sklearn.model_selection import train_test_split\n",
    "from sklearn.metrics import accuracy_score\n",
    "\n",
    "# Assuming train_x and train_y are your features and labels\n",
    "# Split the data into training and testing sets\n",
    "train_x, test_x, train_y, test_y = train_test_split(train_x, train_y, test_size=0.2, random_state=6)\n",
    "\n",
    "# Initialize the classifier\n",
    "classifier = SVC(kernel=\"linear\", random_state=6)\n",
    "\n",
    "# Train the classifier\n",
    "classifier.fit(train_x, train_y)\n",
    "\n",
    "# Save the model\n",
    "joblib.dump(classifier, \"model/digit_recognizer\")\n",
    "\n",
    "# Make predictions on the test data\n",
    "pred_y = classifier.predict(test_x)\n",
    "\n",
    "# Calculate the accuracy\n",
    "accuracy = accuracy_score(test_y, pred_y)\n",
    "\n",
    "# Convert accuracy to a percentage\n",
    "accuracy_percentage = accuracy * 100\n",
    "\n",
    "print(f\"Accuracy: {accuracy_percentage:.2f}%\")\n"
   ]
  },
  {
   "cell_type": "code",
   "execution_count": 17,
   "id": "064e898f-9bdd-47fb-995b-f0282811829f",
   "metadata": {},
   "outputs": [
    {
     "name": "stdout",
     "output_type": "stream",
     "text": [
      "Accuracy=  0.96875\n"
     ]
    }
   ],
   "source": [
    "from sklearn import metrics\n",
    "prediction=classifier.predict(test_x)\n",
    "print(\"Accuracy= \",metrics.accuracy_score(prediction, test_y))\n"
   ]
  },
  {
   "cell_type": "code",
   "execution_count": 18,
   "id": "b605afee-04a6-4f28-a4d8-53441ed04d69",
   "metadata": {},
   "outputs": [],
   "source": [
    "import joblib\n",
    "import cv2\n",
    "import numpy as np\n",
    "import tkinter as tk\n",
    "from tkinter import Label, Frame, StringVar\n",
    "from tkinter import messagebox, ttk, filedialog\n",
    "from PIL import Image, ImageTk\n",
    "\n",
    "# Load the trained model\n",
    "try:\n",
    "    model = joblib.load(\"model/digit_recognizer\")\n",
    "except Exception as e:\n",
    "    messagebox.showerror(\"Model Load Error\", f\"Error loading model: {e}\")\n",
    "    exit()\n",
    "\n",
    "images_folder = \"img/\"\n",
    "\n",
    "# Color palette\n",
    "bg_color = \"#f0f0f0\"\n",
    "header_color = \"#6200ea\"\n",
    "button_color = \"#03dac6\"\n",
    "button_hover_color = \"#018786\"\n",
    "text_color = \"#ffffff\"\n",
    "result_bg_color = \"#ffffff\"\n",
    "result_text_color = \"#000000\"\n",
    "border_color = \"#6200ea\"\n",
    "\n",
    "# Initialize the main window\n",
    "root = tk.Tk()\n",
    "root.title(\"Digit Recognizer\")\n",
    "root.geometry(\"500x700\")\n",
    "root.configure(bg=bg_color)\n",
    "\n",
    "# Create a header label\n",
    "header_label = Label(root, text=\"Handwritten Digits Recognition\", font=('Algerian', 20, 'bold'), bg=header_color, fg=text_color, pady=20)\n",
    "header_label.pack(fill=tk.X)\n",
    "\n",
    "# Create a frame for the controls\n",
    "control_frame = Frame(root, bg=bg_color)\n",
    "control_frame.pack(pady=20)\n",
    "\n",
    "# Create a frame for the result display\n",
    "display_frame = Frame(root, bg=bg_color, bd=2, relief=tk.RIDGE)\n",
    "display_frame.pack(pady=10, padx=10, fill=tk.BOTH, expand=True)\n",
    "\n",
    "# Label to display the captured image\n",
    "image_label = Label(display_frame, bg=result_bg_color, bd=1, relief=tk.SOLID)\n",
    "image_label.pack(pady=10, padx=10, fill=tk.BOTH, expand=True)\n",
    "\n",
    "# Label to display the prediction result\n",
    "result_label = Label(display_frame, text=\"Prediction will appear here\", font=(\"Helvetica\", 16), bg=result_bg_color, fg=result_text_color, bd=1, relief=tk.SOLID, padx=10, pady=10)\n",
    "result_label.pack(pady=10, padx=10, fill=tk.BOTH, expand=True)\n",
    "\n",
    "# Status bar to show recognition status\n",
    "status_var = StringVar()\n",
    "status_var.set(\"Status: Waiting to start...\")\n",
    "status_label = Label(root, textvariable=status_var, font=(\"Helvetica\", 12), bg=bg_color, fg=result_text_color)\n",
    "status_label.pack(side=tk.BOTTOM, fill=tk.X, pady=10)\n",
    "\n",
    "running = False\n",
    "\n",
    "def load_image():\n",
    "    global running\n",
    "    running = False\n",
    "    file_path = filedialog.askopenfilename(initialdir=images_folder, title=\"Select Image\", filetypes=((\"PNG Files\", \"*.png\"), (\"All Files\", \"*.*\")))\n",
    "    if file_path:\n",
    "        recognize_digit(file_path)\n",
    "\n",
    "def recognize_digit(file_path):\n",
    "    global running\n",
    "    running = False\n",
    "    status_var.set(\"Status: Recognizing...\")\n",
    "    try:\n",
    "        im = cv2.imread(file_path)\n",
    "        if im is None:\n",
    "            raise ValueError(\"Failed to load image\")\n",
    "\n",
    "        im_gray = cv2.cvtColor(im, cv2.COLOR_BGR2GRAY)\n",
    "        im_gray = cv2.GaussianBlur(im_gray, (15, 15), 0)\n",
    "\n",
    "        # Threshold the image\n",
    "        ret, im_th = cv2.threshold(im_gray, 100, 255, cv2.THRESH_BINARY)\n",
    "        roi = cv2.resize(im_th, (28, 28), interpolation=cv2.INTER_AREA)\n",
    "    except Exception as e:\n",
    "        result_label.config(text=f\"Image processing error: {e}\", fg=\"red\")\n",
    "        status_var.set(f\"Status: Image processing error\")\n",
    "        return\n",
    "\n",
    "    # Check if the ROI contains any significant non-zero pixels\n",
    "    if np.count_nonzero(roi) < 50:\n",
    "        result_label.config(text=\"Error: No digit recognized\", fg=\"red\")\n",
    "        status_var.set(\"Status: No digit recognized\")\n",
    "    else:\n",
    "        rows, cols = roi.shape\n",
    "        X = []\n",
    "\n",
    "        # Fill the data array with pixels one by one\n",
    "        for i in range(rows):\n",
    "            for j in range(cols):\n",
    "                k = roi[i, j]\n",
    "                if k > 100:\n",
    "                    k = 1\n",
    "                else:\n",
    "                    k = 0\n",
    "                X.append(k)\n",
    "\n",
    "        try:\n",
    "            predictions = model.predict([X])\n",
    "            prediction_text = f\"Prediction: {predictions[0]}\"\n",
    "            result_label.config(text=prediction_text, fg=result_text_color)\n",
    "            status_var.set(f\"Status: Recognized digit {predictions[0]}\")\n",
    "\n",
    "            # Display the image with the prediction\n",
    "            cv2.putText(im, prediction_text, (20, 20), 0, 0.8, (0, 255, 0), 2, cv2.LINE_AA)\n",
    "        except Exception as e:\n",
    "            result_label.config(text=f\"Prediction error: {e}\", fg=\"red\")\n",
    "            status_var.set(f\"Status: Prediction error\")\n",
    "\n",
    "    im_rgb = cv2.cvtColor(im, cv2.COLOR_BGR2RGB)\n",
    "    im_pil = Image.fromarray(im_rgb)\n",
    "    im_tk = ImageTk.PhotoImage(im_pil)\n",
    "    image_label.config(image=im_tk)\n",
    "    image_label.image = im_tk\n",
    "\n",
    "# Button hover effects\n",
    "def on_enter(e):\n",
    "    e.widget['background'] = button_hover_color\n",
    "\n",
    "def on_leave(e):\n",
    "    e.widget['background'] = button_color\n",
    "\n",
    "# Load Image and Clear buttons\n",
    "button_style = {\n",
    "    \"font\": (\"Helvetica\", 16), \"bg\": button_color, \"fg\": text_color, \n",
    "    \"padx\": 10, \"pady\": 5, \"bd\": 0, \"relief\": tk.FLAT, \n",
    "    \"highlightbackground\": border_color, \"highlightcolor\": border_color, \n",
    "    \"highlightthickness\": 2, \"borderwidth\": 0, \"activebackground\": button_hover_color,\n",
    "    \"activeforeground\": text_color,\n",
    "    \"overrelief\": tk.FLAT\n",
    "}\n",
    "\n",
    "load_button = tk.Button(control_frame, text=\"Load Image\", command=load_image, **button_style)\n",
    "load_button.pack(side=tk.LEFT, padx=20)\n",
    "load_button.bind(\"<Enter>\", on_enter)\n",
    "load_button.bind(\"<Leave>\", on_leave)\n",
    "\n",
    "clear_button = tk.Button(control_frame, text=\"Clear\", command=lambda: clear_display(), **button_style)\n",
    "clear_button.pack(side=tk.LEFT, padx=20)\n",
    "clear_button.bind(\"<Enter>\", on_enter)\n",
    "clear_button.bind(\"<Leave>\", on_leave)\n",
    "\n",
    "def clear_display():\n",
    "    image_label.config(image='')\n",
    "    image_label.image = None\n",
    "    result_label.config(text=\"Prediction will appear here\", fg=result_text_color)\n",
    "    status_var.set(\"Status: Cleared\")\n",
    "\n",
    "# Tooltip function\n",
    "def create_tooltip(widget, text):\n",
    "    tooltip = tk.Toplevel(widget)\n",
    "    tooltip.wm_overrideredirect(True)\n",
    "    tooltip.withdraw()\n",
    "    label = tk.Label(tooltip, text=text, background=\"yellow\", relief=tk.SOLID, borderwidth=1, font=(\"Helvetica\", 12))\n",
    "    label.pack()\n",
    "\n",
    "    def enter(event):\n",
    "        x = event.x_root + 20\n",
    "        y = event.y_root + 20\n",
    "        tooltip.wm_geometry(f\"+{x}+{y}\")\n",
    "        tooltip.deiconify()\n",
    "\n",
    "    def leave(event):\n",
    "        tooltip.withdraw()\n",
    "\n",
    "    widget.bind(\"<Enter>\", enter)\n",
    "    widget.bind(\"<Leave>\", leave)\n",
    "\n",
    "create_tooltip(load_button, \"Load an image from the dataset\")\n",
    "create_tooltip(clear_button, \"Clear the display\")\n",
    "\n",
    "root.mainloop()\n"
   ]
  },
  {
   "cell_type": "code",
   "execution_count": null,
   "id": "fab03054-9f8c-4534-bf8a-ed6489478350",
   "metadata": {},
   "outputs": [],
   "source": []
  }
 ],
 "metadata": {
  "kernelspec": {
   "display_name": "Python 3 (ipykernel)",
   "language": "python",
   "name": "python3"
  },
  "language_info": {
   "codemirror_mode": {
    "name": "ipython",
    "version": 3
   },
   "file_extension": ".py",
   "mimetype": "text/x-python",
   "name": "python",
   "nbconvert_exporter": "python",
   "pygments_lexer": "ipython3",
   "version": "3.12.3"
  }
 },
 "nbformat": 4,
 "nbformat_minor": 5
}
